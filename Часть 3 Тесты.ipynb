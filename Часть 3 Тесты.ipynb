{
 "cells": [
  {
   "cell_type": "code",
   "execution_count": 13,
   "metadata": {},
   "outputs": [
    {
     "name": "stdout",
     "output_type": "stream",
     "text": [
      "Введите значения первой и третьей квартили: 2,4\n",
      "Введите значения исследуемых признаков: 0,6.5,-1.5,7.5,8,0.5,3\n",
      "Выбросы: -1.5 7.5 8.0 "
     ]
    }
   ],
   "source": [
    "# Тест №1\n",
    "\n",
    "Q = [float(i) for i in input('Введите значения первой и третьей квартили: ').rstrip(' ').split(',')]\n",
    "vec = [float(i) for i in input('Введите значения исследуемых признаков: ').rstrip(' ').split(',')]\n",
    "print('Выбросы: ', end = '')\n",
    "\n",
    "for i in vec:\n",
    "    if i < Q[0]-1.5*(Q[1]-Q[0]) or i > Q[1]+1.5*(Q[1]-Q[0]):\n",
    "        print(i,'', end = '')\n",
    "    "
   ]
  },
  {
   "cell_type": "code",
   "execution_count": 18,
   "metadata": {},
   "outputs": [
    {
     "name": "stdout",
     "output_type": "stream",
     "text": [
      "Введите среднее значение выборки: 10\n",
      "Введите медиану выборки: 9\n",
      "Введите отклонение выборки: 1.1\n",
      "Введите проверочные значения: 14,7,6,6.5,13.5,13\n",
      "Значения выбросов:  [14.0, 6.0, 6.5, 13.5]\n"
     ]
    }
   ],
   "source": [
    "# Тест №2\n",
    "\n",
    "n = 10\n",
    "average = float(input('Введите среднее значение выборки: '))\n",
    "median = float(input('Введите медиану выборки: '))\n",
    "deviation = float(input('Введите отклонение выборки: '))\n",
    "x = [float(i) for i in input('Введите проверочные значения: ').rstrip(' ').split(',')]\n",
    "\n",
    "import machine_learning\n",
    "\n",
    "print('Значения выбросов: ', machine_learning.exception_simple(x, average, deviation, machine_learning.symmetry(median, average, deviation, n)))"
   ]
  },
  {
   "cell_type": "code",
   "execution_count": 19,
   "metadata": {},
   "outputs": [
    {
     "ename": "IndentationError",
     "evalue": "unexpected indent (<ipython-input-19-328c708166a7>, line 2)",
     "output_type": "error",
     "traceback": [
      "\u001b[1;36m  File \u001b[1;32m\"<ipython-input-19-328c708166a7>\"\u001b[1;36m, line \u001b[1;32m2\u001b[0m\n\u001b[1;33m    14\u001b[0m\n\u001b[1;37m    ^\u001b[0m\n\u001b[1;31mIndentationError\u001b[0m\u001b[1;31m:\u001b[0m unexpected indent\n"
     ]
    }
   ],
   "source": [
    "14,7,6,6.5,13.5,13\n",
    " 14\n",
    " 7\n",
    " 6\n",
    " 6,5\n",
    " 13,5\n",
    " 13"
   ]
  },
  {
   "cell_type": "code",
   "execution_count": null,
   "metadata": {},
   "outputs": [],
   "source": [
    "# Тест №3\n",
    "\n"
   ]
  }
 ],
 "metadata": {
  "kernelspec": {
   "display_name": "Python 3",
   "language": "python",
   "name": "python3"
  },
  "language_info": {
   "codemirror_mode": {
    "name": "ipython",
    "version": 3
   },
   "file_extension": ".py",
   "mimetype": "text/x-python",
   "name": "python",
   "nbconvert_exporter": "python",
   "pygments_lexer": "ipython3",
   "version": "3.7.2"
  }
 },
 "nbformat": 4,
 "nbformat_minor": 2
}
