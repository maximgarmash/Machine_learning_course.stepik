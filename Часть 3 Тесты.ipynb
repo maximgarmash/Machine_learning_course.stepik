{
 "cells": [
  {
   "cell_type": "code",
   "execution_count": 13,
   "metadata": {},
   "outputs": [
    {
     "name": "stdout",
     "output_type": "stream",
     "text": [
      "Введите значения первой и третьей квартили: 2,4\n",
      "Введите значения исследуемых признаков: 0,6.5,-1.5,7.5,8,0.5,3\n",
      "Выбросы: -1.5 7.5 8.0 "
     ]
    }
   ],
   "source": [
    "# Тест №1\n",
    "\n",
    "Q = [float(i) for i in input('Введите значения первой и третьей квартили: ').rstrip(' ').split(',')]\n",
    "vec = [float(i) for i in input('Введите значения исследуемых признаков: ').rstrip(' ').split(',')]\n",
    "print('Выбросы: ', end = '')\n",
    "\n",
    "for i in vec:\n",
    "    if i < Q[0]-1.5*(Q[1]-Q[0]) or i > Q[1]+1.5*(Q[1]-Q[0]):\n",
    "        print(i,'', end = '')\n",
    "    "
   ]
  },
  {
   "cell_type": "code",
   "execution_count": 18,
   "metadata": {},
   "outputs": [
    {
     "name": "stdout",
     "output_type": "stream",
     "text": [
      "Введите среднее значение выборки: 10\n",
      "Введите медиану выборки: 9\n",
      "Введите отклонение выборки: 1.1\n",
      "Введите проверочные значения: 14,7,6,6.5,13.5,13\n",
      "Значения выбросов:  [14.0, 6.0, 6.5, 13.5]\n"
     ]
    }
   ],
   "source": [
    "# Тест №2\n",
    "\n",
    "n = 10\n",
    "average = float(input('Введите среднее значение выборки: '))\n",
    "median = float(input('Введите медиану выборки: '))\n",
    "deviation = float(input('Введите отклонение выборки: '))\n",
    "x = [float(i) for i in input('Введите проверочные значения: ').rstrip(' ').split(',')]\n",
    "\n",
    "import machine_learning\n",
    "\n",
    "print('Значения выбросов: ', machine_learning.exception_simple(x, average, deviation, machine_learning.symmetry(median, average, deviation, n)))"
   ]
  },
  {
   "cell_type": "code",
   "execution_count": null,
   "metadata": {},
   "outputs": [],
   "source": []
  },
  {
   "cell_type": "code",
   "execution_count": 7,
   "metadata": {},
   "outputs": [
    {
     "name": "stdout",
     "output_type": "stream",
     "text": [
      "Введите количество объектов: 4\n",
      "Введите имя объекта: A\n",
      "Введите значения признаков: 1,1,0\n",
      "Введите имя объекта: B\n",
      "Введите значения признаков: 0,2,-1\n",
      "Введите имя объекта: C\n",
      "Введите значения признаков: 2,3,1\n",
      "Введите имя объекта: D\n",
      "Введите значения признаков: 1,0,4\n",
      "Выбросом является объект: D\n",
      "Сумма расстояний: 20.0\n"
     ]
    }
   ],
   "source": [
    "# Практическое задание\n",
    "\n",
    "\n",
    "n = int(input('Введите количество объектов: '))\n",
    "Tab, list_obj = dict(), []\n",
    "for i in range(n):\n",
    "    key = input('Введите имя объекта: ')\n",
    "    list_obj.append(key)\n",
    "    Tab[key] = [float(j) for j in input('Введите значения признаков: ').rstrip(' ').split(',')]\n",
    "#print(list_obj)    \n",
    "#print(Tab.values())  \n",
    "\n",
    "import machine_learning\n",
    "dict_sum_metric = dict()\n",
    "for key in Tab:\n",
    "    Sum = 0\n",
    "    for i in list_obj:\n",
    "        if i != key:\n",
    "            Sum += machine_learning.manhetten(Tab[key], Tab[i])\n",
    "    dict_sum_metric[Sum] = key\n",
    "print('Выбросом является объект:', dict_sum_metric[max(dict_sum_metric)])\n",
    "print('Сумма расстояний:', max(dict_sum_metric))\n",
    "            \n",
    "    \n",
    " #   S += \n",
    "  #  list_sum_metric.append(machine_learning.manhetten(Tab[key], )\n",
    "\n",
    "\n"
   ]
  },
  {
   "cell_type": "code",
   "execution_count": null,
   "metadata": {},
   "outputs": [],
   "source": [
    "A\n",
    "1,1,0\n",
    "0,2,-1\n",
    "2,3,1\n",
    "1,0,4"
   ]
  },
  {
   "cell_type": "code",
   "execution_count": 6,
   "metadata": {},
   "outputs": [
    {
     "ename": "TypeError",
     "evalue": "'builtin_function_or_method' object is not iterable",
     "output_type": "error",
     "traceback": [
      "\u001b[1;31m---------------------------------------------------------------------------\u001b[0m",
      "\u001b[1;31mTypeError\u001b[0m                                 Traceback (most recent call last)",
      "\u001b[1;32m<ipython-input-6-a46b903d92ed>\u001b[0m in \u001b[0;36m<module>\u001b[1;34m\u001b[0m\n\u001b[0;32m      2\u001b[0m \u001b[0mT\u001b[0m\u001b[1;33m[\u001b[0m\u001b[1;36m0\u001b[0m\u001b[1;33m]\u001b[0m \u001b[1;33m=\u001b[0m \u001b[1;36m4\u001b[0m\u001b[1;33m\u001b[0m\u001b[1;33m\u001b[0m\u001b[0m\n\u001b[0;32m      3\u001b[0m \u001b[0mT\u001b[0m\u001b[1;33m[\u001b[0m\u001b[1;36m1\u001b[0m\u001b[1;33m]\u001b[0m \u001b[1;33m=\u001b[0m \u001b[1;36m5\u001b[0m\u001b[1;33m\u001b[0m\u001b[1;33m\u001b[0m\u001b[0m\n\u001b[1;32m----> 4\u001b[1;33m \u001b[0mprint\u001b[0m\u001b[1;33m(\u001b[0m\u001b[0mmax\u001b[0m\u001b[1;33m(\u001b[0m\u001b[0mT\u001b[0m\u001b[1;33m.\u001b[0m\u001b[0mvalues\u001b[0m\u001b[1;33m)\u001b[0m\u001b[1;33m)\u001b[0m\u001b[1;33m\u001b[0m\u001b[1;33m\u001b[0m\u001b[0m\n\u001b[0m",
      "\u001b[1;31mTypeError\u001b[0m: 'builtin_function_or_method' object is not iterable"
     ]
    }
   ],
   "source": [
    "T = dict()\n",
    "T[0] = 4\n",
    "T[1] = 5\n",
    "print(max(T.values))"
   ]
  },
  {
   "cell_type": "code",
   "execution_count": null,
   "metadata": {},
   "outputs": [],
   "source": []
  }
 ],
 "metadata": {
  "kernelspec": {
   "display_name": "Python 3",
   "language": "python",
   "name": "python3"
  },
  "language_info": {
   "codemirror_mode": {
    "name": "ipython",
    "version": 3
   },
   "file_extension": ".py",
   "mimetype": "text/x-python",
   "name": "python",
   "nbconvert_exporter": "python",
   "pygments_lexer": "ipython3",
   "version": "3.7.2"
  }
 },
 "nbformat": 4,
 "nbformat_minor": 2
}
