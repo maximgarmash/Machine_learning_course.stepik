{
 "cells": [
  {
   "cell_type": "code",
   "execution_count": 3,
   "metadata": {},
   "outputs": [
    {
     "name": "stdout",
     "output_type": "stream",
     "text": [
      "{}\n",
      "{}\n"
     ]
    }
   ],
   "source": [
    "d = dict()\n",
    "print(d)\n",
    "s = {}\n",
    "print(s)"
   ]
  },
  {
   "cell_type": "code",
   "execution_count": 19,
   "metadata": {},
   "outputs": [
    {
     "name": "stdout",
     "output_type": "stream",
     "text": [
      "239\n",
      "100\n",
      "{'a': 239, 10: 100, 'b': 158}\n",
      "None\n",
      "{'a': 239, 'b': 158}\n"
     ]
    }
   ],
   "source": [
    "d = {'a':239, 10:100}\n",
    "print(d['a'])\n",
    "print(d[10])\n",
    "10 not in d\n",
    "d['b'] = 158\n",
    "print(d)\n",
    "print(d.get('c'))\n",
    "del d[10]\n",
    "print(d)"
   ]
  },
  {
   "cell_type": "code",
   "execution_count": 28,
   "metadata": {},
   "outputs": [
    {
     "name": "stdout",
     "output_type": "stream",
     "text": [
      "C A T G \n",
      "C A T G \n",
      "14 12 9 18 \n",
      "C 14; A 12; T 9; G 18; "
     ]
    }
   ],
   "source": [
    "d = {'C':14, 'A':12, 'T':9, 'G':18}\n",
    "for key in d:\n",
    "    print(key, end = ' ')\n",
    "print()\n",
    "for key in d.keys():\n",
    "    print(key, end = ' ')\n",
    "print()\n",
    "for value in d.values():\n",
    "    print(value, end=' ')\n",
    "print()\n",
    "for key, value in d.items():\n",
    "    print(key, value, end='; ')"
   ]
  },
  {
   "cell_type": "code",
   "execution_count": 31,
   "metadata": {},
   "outputs": [
    {
     "name": "stdout",
     "output_type": "stream",
     "text": [
      "None\n",
      "{2: [-1]}\n",
      "{2: [-1, -2]}\n",
      "{2: [-1, -2, -3]}\n"
     ]
    }
   ],
   "source": [
    "# Задача №1\n",
    "\n",
    "def update_dictionary(d, key, value):\n",
    "    if key in d:\n",
    "        d[key].append(value)\n",
    "    elif 2*key in d:\n",
    "        d[2*key].append(value)\n",
    "    else:\n",
    "        d[2*key] = [value]\n",
    "d = {}\n",
    "print(update_dictionary(d, 1, -1))  # None\n",
    "print(d)\n",
    "update_dictionary(d, 2, -2)\n",
    "print(d)                            # {2: [-1, -2]}\n",
    "update_dictionary(d, 1, -3)\n",
    "print(d)        "
   ]
  },
  {
   "cell_type": "code",
   "execution_count": 20,
   "metadata": {},
   "outputs": [
    {
     "name": "stdout",
     "output_type": "stream",
     "text": [
      "a A a\n",
      "['a', 'a', 'a']\n",
      "a 3\n"
     ]
    }
   ],
   "source": [
    "# Задача №2 Вариант 1\n",
    "\n",
    "s = [str.lower(i) for i in input().split(' ')]\n",
    "mn = set()\n",
    "for i in s:\n",
    "    mn.add(i)\n",
    "for i in mn:\n",
    "    print(i, s.count(i))\n",
    "    \n",
    "\n",
    "\n"
   ]
  },
  {
   "cell_type": "code",
   "execution_count": 22,
   "metadata": {},
   "outputs": [
    {
     "name": "stdout",
     "output_type": "stream",
     "text": [
      "as bg As Sa jh ui b B\n",
      "ui 1\n",
      "as 2\n",
      "b 2\n",
      "bg 1\n",
      "sa 1\n",
      "jh 1\n"
     ]
    }
   ],
   "source": [
    "# Задача №2 Вариант 2\n",
    "\n",
    "s = input().lower().split()\n",
    "for i in set(s):\n",
    "    print(i, s.count(i))"
   ]
  },
  {
   "cell_type": "code",
   "execution_count": 28,
   "metadata": {},
   "outputs": [
    {
     "name": "stdout",
     "output_type": "stream",
     "text": [
      "3\n",
      "2\n",
      "4\n",
      "3\n",
      "9\n",
      "2\n",
      "4\n"
     ]
    }
   ],
   "source": [
    "# Задача №3\n",
    "\n",
    "def f(x):\n",
    "    return x**2\n",
    "\n",
    "n = int(input())\n",
    "d = dict()\n",
    "for i in range(n):\n",
    "    x = int(input())\n",
    "    if x in d:\n",
    "        print(d[x])\n",
    "    elif i == n-1:\n",
    "        print(f(x))\n",
    "    else:\n",
    "        print(f(x))\n",
    "        d[x] = f(x)"
   ]
  },
  {
   "cell_type": "code",
   "execution_count": null,
   "metadata": {},
   "outputs": [],
   "source": []
  }
 ],
 "metadata": {
  "kernelspec": {
   "display_name": "Python 3",
   "language": "python",
   "name": "python3"
  },
  "language_info": {
   "codemirror_mode": {
    "name": "ipython",
    "version": 3
   },
   "file_extension": ".py",
   "mimetype": "text/x-python",
   "name": "python",
   "nbconvert_exporter": "python",
   "pygments_lexer": "ipython3",
   "version": "3.7.2"
  }
 },
 "nbformat": 4,
 "nbformat_minor": 2
}
